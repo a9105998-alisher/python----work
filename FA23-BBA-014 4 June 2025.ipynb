{
 "cells": [
  {
   "cell_type": "code",
   "execution_count": 1,
   "id": "30f8d4c0-b273-4e36-808b-4ab838772e83",
   "metadata": {},
   "outputs": [
    {
     "name": "stdout",
     "output_type": "stream",
     "text": [
      "23\n"
     ]
    }
   ],
   "source": [
    "# WRITE A PYTHON FUNCTION TO FIND MAXIMUM THREE NUMBERS.\n",
    "def find_max(num1,num2,num3):\n",
    "    return max(num1,num2,num3)\n",
    "print(find_max(8,23,10)) \n"
   ]
  },
  {
   "cell_type": "code",
   "execution_count": 3,
   "id": "a2e853fa-15fd-4612-941e-8ef06c64e829",
   "metadata": {},
   "outputs": [
    {
     "name": "stdin",
     "output_type": "stream",
     "text": [
      "Enter a string to reverse:  ali sher\n"
     ]
    },
    {
     "name": "stdout",
     "output_type": "stream",
     "text": [
      "Reversed string: rehs ila\n"
     ]
    }
   ],
   "source": [
    "def reverse_string(s):\n",
    "    return s[::-1]\n",
    "\n",
    "user_input = input(\"Enter a string to reverse: \")\n",
    "\n",
    "reversed_str = reverse_string(user_input)\n",
    "\n",
    "print(\"Reversed string:\", reversed_str)"
   ]
  },
  {
   "cell_type": "code",
   "execution_count": 5,
   "id": "54850c9a-0026-4ee2-ac27-11880f22dadd",
   "metadata": {},
   "outputs": [
    {
     "name": "stdout",
     "output_type": "stream",
     "text": [
      "List of squares from 1 to 30:\n",
      "[1, 4, 9, 16, 25, 36, 49, 64, 81, 100, 121, 144, 169, 196, 225, 256, 289, 324, 361, 400, 441, 484, 529, 576, 625, 676, 729, 784, 841, 900]\n"
     ]
    }
   ],
   "source": [
    "# Create a list of squares from 1 to 30\n",
    "squares = [i**2 for i in range(1, 31)]\n",
    "\n",
    "# Print the list\n",
    "print(\"List of squares from 1 to 30:\")\n",
    "print(squares)"
   ]
  },
  {
   "cell_type": "code",
   "execution_count": null,
   "id": "92890701-9b0e-4451-81a2-f62695ece7fa",
   "metadata": {},
   "outputs": [],
   "source": []
  }
 ],
 "metadata": {
  "kernelspec": {
   "display_name": "Python 3 (ipykernel)",
   "language": "python",
   "name": "python3"
  },
  "language_info": {
   "codemirror_mode": {
    "name": "ipython",
    "version": 3
   },
   "file_extension": ".py",
   "mimetype": "text/x-python",
   "name": "python",
   "nbconvert_exporter": "python",
   "pygments_lexer": "ipython3",
   "version": "3.12.4"
  }
 },
 "nbformat": 4,
 "nbformat_minor": 5
}
