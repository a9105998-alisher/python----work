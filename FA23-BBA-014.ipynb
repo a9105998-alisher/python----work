{
 "cells": [
  {
   "cell_type": "code",
   "execution_count": 2,
   "id": "3d3d8c89-a795-4a6e-b3c8-7aa0525cd076",
   "metadata": {},
   "outputs": [
    {
     "name": "stdin",
     "output_type": "stream",
     "text": [
      "Enter student marks (1-100):  80\n"
     ]
    },
    {
     "name": "stdout",
     "output_type": "stream",
     "text": [
      "Grade: C\n"
     ]
    }
   ],
   "source": [
    "# Accept marks from the user\n",
    "marks = int(input(\"Enter student marks (1-100): \"))\n",
    "\n",
    "# Determine the grade based on the given conditions\n",
    "if marks < 50:\n",
    "    grade = \"F\"\n",
    "elif 50 <= marks <= 60:\n",
    "    grade = \"E\"\n",
    "elif 61 <= marks <= 70:\n",
    "    grade = \"D\"\n",
    "elif 71 <= marks <= 80:\n",
    "    grade = \"C\"\n",
    "elif 81 <= marks <= 90:\n",
    "    grade = \"B\"\n",
    "elif 91 <= marks <= 100:\n",
    "    grade = \"A\"\n",
    "else:\n",
    "    grade = \"Invalid marks! Please enter a value between 1 and 100.\"\n",
    "\n",
    "# Display the grade\n",
    "print(f\"Grade: {grade}\")\n"
   ]
  },
  {
   "cell_type": "code",
   "execution_count": 4,
   "id": "9b96d57a-e9bc-4e83-a85d-92dfe6c066bc",
   "metadata": {},
   "outputs": [
    {
     "name": "stdin",
     "output_type": "stream",
     "text": [
      "Enter temperature in Celsius:  40\n"
     ]
    },
    {
     "name": "stdout",
     "output_type": "stream",
     "text": [
      "Temperature Status: HOT\n"
     ]
    }
   ],
   "source": [
    "# Accept temperature from the user\n",
    "temperature = float(input(\"Enter temperature in Celsius: \"))\n",
    "\n",
    "# Determine the message based on the given conditions\n",
    "if temperature < 0:\n",
    "    message = \"FREEZING\"\n",
    "elif 0 <= temperature <= 15:\n",
    "    message = \"COLD\"\n",
    "elif 16 <= temperature <= 30:\n",
    "    message = \"WARM\"\n",
    "elif 31 <= temperature <= 40:\n",
    "    message = \"HOT\"\n",
    "else:\n",
    "    message = \"VERY HOT\"\n",
    "\n",
    "# Display the temperature status\n",
    "print(f\"Temperature Status: {message}\")\n"
   ]
  },
  {
   "cell_type": "code",
   "execution_count": null,
   "id": "4421c1f6-623e-4973-8dd1-68e1dc00e342",
   "metadata": {},
   "outputs": [],
   "source": []
  }
 ],
 "metadata": {
  "kernelspec": {
   "display_name": "Python [conda env:base] *",
   "language": "python",
   "name": "conda-base-py"
  },
  "language_info": {
   "codemirror_mode": {
    "name": "ipython",
    "version": 3
   },
   "file_extension": ".py",
   "mimetype": "text/x-python",
   "name": "python",
   "nbconvert_exporter": "python",
   "pygments_lexer": "ipython3",
   "version": "3.12.7"
  }
 },
 "nbformat": 4,
 "nbformat_minor": 5
}
