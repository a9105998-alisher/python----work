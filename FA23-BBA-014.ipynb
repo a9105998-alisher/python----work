{
 "cells": [
  {
   "cell_type": "markdown",
   "id": "0a5b46d8-bef5-4fce-ade0-4a7054b2e831",
   "metadata": {},
   "source": [
    "## **Assiginment # 2**\n",
    "### ALI SHER \n",
    "### FA23-BBA-014\n",
    "---"
   ]
  },
  {
   "cell_type": "code",
   "execution_count": 26,
   "id": "93826b31-b0f4-4ea0-820e-c0c9fa1b171b",
   "metadata": {},
   "outputs": [
    {
     "name": "stdout",
     "output_type": "stream",
     "text": [
      "Keys: dict_keys(['name', 'age', 'grade', 'major', 'GPA', 'university', 'semester', 'enrolled'])\n",
      "Values: dict_values(['Ali Sher', 21, 'B+', 'BBA', 2.9, 'COMSATS', 4, True])\n",
      "Items: dict_items([('name', 'Ali Sher'), ('age', 21), ('grade', 'B+'), ('major', 'BBA'), ('GPA', 2.9), ('university', 'COMSATS'), ('semester', 4), ('enrolled', True)])\n",
      "Get 'name': Ali Sher\n",
      "Update GPA and add minor: None {'name': 'Ali Sher', 'age': 21, 'grade': 'B+', 'major': 'BBA', 'GPA': 4.0, 'university': 'COMSATS', 'semester': 4, 'enrolled': True, 'minor': 'Mathematics'}\n",
      "Pop 'semester': 4\n",
      "Popitem (last item): ('minor', 'Mathematics')\n",
      "Setdefault 'email': ali@example.com\n",
      "Copy of dictionary: {'name': 'Ali Sher', 'age': 21, 'grade': 'B+', 'major': 'BBA', 'GPA': 4.0, 'university': 'COMSATS', 'enrolled': True, 'email': 'ali@example.com'}\n",
      "Clear all items: None\n",
      "Final dictionary: {}\n"
     ]
    }
   ],
   "source": [
    "# Original dictionary with 8 key-value pairs\n",
    "\n",
    "student = {\n",
    "    \"name\": \"Ali Sher\",\n",
    "    \"age\": 21,\n",
    "    \"grade\": \"B+\",\n",
    "    \"major\": \"BBA\",\n",
    "    \"GPA\": 2.9,\n",
    "    \"university\": \"COMSATS\",\n",
    "    \"semester\": 4,\n",
    "    \"enrolled\": True\n",
    "}\n",
    "\n",
    "# 10 dictionary methods being applied\n",
    "\n",
    "print(\"Keys:\", student.keys())\n",
    "print(\"Values:\", student.values())\n",
    "print(\"Items:\", student.items())\n",
    "print(\"Get 'name':\", student.get(\"name\"))\n",
    "print(\"Update GPA and add minor:\", student.update({\"GPA\": 4.0, \"minor\": \"Mathematics\"}), student)\n",
    "print(\"Pop 'semester':\", student.pop(\"semester\"))\n",
    "print(\"Popitem (last item):\", student.popitem())\n",
    "print(\"Setdefault 'email':\", student.setdefault(\"email\", \"ali@example.com\"))\n",
    "print(\"Copy of dictionary:\", student.copy())\n",
    "print(\"Clear all items:\", student.clear())\n",
    "\n",
    "print(\"Final dictionary:\", student)\n"
   ]
  }
 ],
 "metadata": {
  "kernelspec": {
   "display_name": "Python [conda env:base] *",
   "language": "python",
   "name": "conda-base-py"
  },
  "language_info": {
   "codemirror_mode": {
    "name": "ipython",
    "version": 3
   },
   "file_extension": ".py",
   "mimetype": "text/x-python",
   "name": "python",
   "nbconvert_exporter": "python",
   "pygments_lexer": "ipython3",
   "version": "3.12.7"
  }
 },
 "nbformat": 4,
 "nbformat_minor": 5
}
