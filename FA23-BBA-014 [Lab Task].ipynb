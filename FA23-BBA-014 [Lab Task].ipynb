{
 "cells": [
  {
   "cell_type": "markdown",
   "id": "37a90339-82f9-4c96-b8da-35f468f551d4",
   "metadata": {},
   "source": [
    "# Lab Task\n",
    "## Ali Sher\n",
    "## FA23-BBA-014\n",
    "## 28 May 2025\n"
   ]
  },
  {
   "cell_type": "code",
   "execution_count": 2,
   "id": "ee6b05de-0899-4ed7-b63f-37445f37f734",
   "metadata": {},
   "outputs": [
    {
     "name": "stdout",
     "output_type": "stream",
     "text": [
      "bakar!\n",
      "Assalam Alaikum,Ali Sher!\n"
     ]
    }
   ],
   "source": [
    "def greet_me():         # a simple function\n",
    "\n",
    "    print(\"bakar!\")\n",
    "greet_me()\n",
    "def greet_me(username):           \n",
    "    print(f\"Assalam Alaikum,{username.title()}!\")\n",
    "greet_me('Ali Sher')\n"
   ]
  },
  {
   "cell_type": "code",
   "execution_count": 8,
   "id": "fd44248b-328d-4d78-92b3-119a8247b4f5",
   "metadata": {},
   "outputs": [
    {
     "name": "stdout",
     "output_type": "stream",
     "text": [
      "\n",
      "l have a cat.\n",
      "My cat's name is Bali\n",
      "\n",
      "l have a lion.\n",
      "My lion's name is Sherou\n",
      "CAT's name is Meow Meow.\n"
     ]
    }
   ],
   "source": [
    "def explain_mypet(pet_type,animal_name):    #POSITIONAL ARGUMENTS\n",
    "    print (f\"\\nl have a {pet_type}.\")\n",
    "    print(f\"My {pet_type}'s name is {animal_name.title()}\")\n",
    "explain_mypet('cat','bali')\n",
    "explain_mypet('lion','sherou')                \n",
    "def describe_pet(animal_type, pet_name):\n",
    " print(f\"{animal_type}'s name is {pet_name.title()}.\")\n",
    "describe_pet('CAT','MEOW MEOW')              \n",
    "def my_pet(animal_type,pet_name):\n",
    "   print(f\"\\nl have a {animal_type}\")\n",
    "   print(f\"My {animal_type}'s name is {pet_name}\")\n"
   ]
  },
  {
   "cell_type": "code",
   "execution_count": 12,
   "id": "9f4837e0-4acf-4a58-aac1-08b5d98b4d6b",
   "metadata": {},
   "outputs": [
    {
     "name": "stdout",
     "output_type": "stream",
     "text": [
      "\n",
      "l have a cat\n",
      "My cat's name is bali\n"
     ]
    }
   ],
   "source": [
    "my_pet(animal_type='cat',pet_name='bali')       # Keyword Argument\n"
   ]
  },
  {
   "cell_type": "code",
   "execution_count": 14,
   "id": "c2aa3154-57e0-4c60-8eb4-982845a93d8b",
   "metadata": {},
   "outputs": [
    {
     "name": "stdout",
     "output_type": "stream",
     "text": [
      "\n",
      "l have a lion\n",
      "My lion's name is sparrow\n"
     ]
    }
   ],
   "source": [
    "my_pet(pet_name='sparrow',animal_type=\"lion\")   #default argument\n"
   ]
  },
  {
   "cell_type": "code",
   "execution_count": 16,
   "id": "0c353fbb-f6bd-4e40-873c-12978f8a9c7a",
   "metadata": {},
   "outputs": [
    {
     "name": "stdout",
     "output_type": "stream",
     "text": [
      "\n",
      "l have a lion\n",
      "My lion's name is sparrow\n",
      "Ali Sher Fazian\n"
     ]
    }
   ],
   "source": [
    "my_pet(pet_name='sparrow',animal_type='lion')     # function calls\n",
    "def get_informed_name(first_name,last_name):      #Return Value\n",
    " full_name=f\"{first_name}{last_name}\"\n",
    " return full_name.title()\n",
    "person=get_informed_name('Ali Sher ','fazian')\n",
    "print(person)"
   ]
  }
 ],
 "metadata": {
  "kernelspec": {
   "display_name": "Python [conda env:base] *",
   "language": "python",
   "name": "conda-base-py"
  },
  "language_info": {
   "codemirror_mode": {
    "name": "ipython",
    "version": 3
   },
   "file_extension": ".py",
   "mimetype": "text/x-python",
   "name": "python",
   "nbconvert_exporter": "python",
   "pygments_lexer": "ipython3",
   "version": "3.12.7"
  }
 },
 "nbformat": 4,
 "nbformat_minor": 5
}
